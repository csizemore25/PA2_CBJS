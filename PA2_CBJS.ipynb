{
 "cells": [
  {
   "cell_type": "markdown",
   "id": "8cdbbee3",
   "metadata": {},
   "source": [
    "# Programming Assignment 2"
   ]
  },
  {
   "cell_type": "markdown",
   "id": "5df8a349",
   "metadata": {},
   "source": [
    "## Caitlin Sizemore "
   ]
  },
  {
   "cell_type": "markdown",
   "id": "c91eec5a",
   "metadata": {},
   "source": [
    "### Version 1"
   ]
  },
  {
   "cell_type": "markdown",
   "id": "192d730e",
   "metadata": {},
   "source": [
    "### CS 150-01 Fall Semester "
   ]
  },
  {
   "cell_type": "code",
   "execution_count": 40,
   "id": "199c15e6",
   "metadata": {},
   "outputs": [],
   "source": [
    "names=[]"
   ]
  },
  {
   "cell_type": "markdown",
   "id": "1edd8ef5",
   "metadata": {},
   "source": [
    "append(): adds data to the end of the list"
   ]
  },
  {
   "cell_type": "code",
   "execution_count": 41,
   "id": "340c37d9",
   "metadata": {},
   "outputs": [
    {
     "data": {
      "text/plain": [
       "['Chelsea']"
      ]
     },
     "execution_count": 41,
     "metadata": {},
     "output_type": "execute_result"
    }
   ],
   "source": [
    "names.append('Chelsea')\n",
    "names"
   ]
  },
  {
   "cell_type": "markdown",
   "id": "c0ca3df0",
   "metadata": {},
   "source": [
    "extend(): adds another list to. your list"
   ]
  },
  {
   "cell_type": "code",
   "execution_count": 42,
   "id": "6931458e",
   "metadata": {},
   "outputs": [
    {
     "data": {
      "text/plain": [
       "['Chelsea', 'Kyle', 'Haylee', 'Zach']"
      ]
     },
     "execution_count": 42,
     "metadata": {},
     "output_type": "execute_result"
    }
   ],
   "source": [
    "names.extend(['Kyle', 'Haylee', 'Zach'])\n",
    "names"
   ]
  },
  {
   "cell_type": "markdown",
   "id": "db55e20e",
   "metadata": {},
   "source": [
    "insert(): inserts data into list in specified spots"
   ]
  },
  {
   "cell_type": "code",
   "execution_count": 43,
   "id": "a7d0fba7",
   "metadata": {},
   "outputs": [
    {
     "data": {
      "text/plain": [
       "['Kathy', 'Chelsea', 'Kyle', 'Haylee', 'Zach']"
      ]
     },
     "execution_count": 43,
     "metadata": {},
     "output_type": "execute_result"
    }
   ],
   "source": [
    "names.insert(0, 'Kathy')\n",
    "names"
   ]
  },
  {
   "cell_type": "markdown",
   "id": "700023f5",
   "metadata": {},
   "source": [
    "remove(): removes items specifically - you don't need to know its index "
   ]
  },
  {
   "cell_type": "code",
   "execution_count": 44,
   "id": "994708c6",
   "metadata": {},
   "outputs": [
    {
     "data": {
      "text/plain": [
       "['Kathy', 'Chelsea', 'Kyle', 'Zach']"
      ]
     },
     "execution_count": 44,
     "metadata": {},
     "output_type": "execute_result"
    }
   ],
   "source": [
    "names.remove('Haylee')\n",
    "names"
   ]
  },
  {
   "cell_type": "markdown",
   "id": "d0bf14aa",
   "metadata": {},
   "source": [
    "count(): tells how many times the specified element appears in a list "
   ]
  },
  {
   "cell_type": "code",
   "execution_count": 45,
   "id": "930fbd9c",
   "metadata": {},
   "outputs": [
    {
     "data": {
      "text/plain": [
       "1"
      ]
     },
     "execution_count": 45,
     "metadata": {},
     "output_type": "execute_result"
    }
   ],
   "source": [
    "names.count('Chelsea')"
   ]
  },
  {
   "cell_type": "markdown",
   "id": "e8497bfa",
   "metadata": {},
   "source": [
    "index(): tells position of element in index"
   ]
  },
  {
   "cell_type": "code",
   "execution_count": 46,
   "id": "b5ad8365",
   "metadata": {},
   "outputs": [
    {
     "data": {
      "text/plain": [
       "2"
      ]
     },
     "execution_count": 46,
     "metadata": {},
     "output_type": "execute_result"
    }
   ],
   "source": [
    "names.index('Kyle')"
   ]
  },
  {
   "cell_type": "markdown",
   "id": "393ca1f3",
   "metadata": {},
   "source": [
    "pop(): removes any specific element from list "
   ]
  },
  {
   "cell_type": "code",
   "execution_count": 47,
   "id": "14a34361",
   "metadata": {},
   "outputs": [
    {
     "data": {
      "text/plain": [
       "['Kathy', 'Chelsea', 'Zach']"
      ]
     },
     "execution_count": 47,
     "metadata": {},
     "output_type": "execute_result"
    }
   ],
   "source": [
    "names.pop(2)\n",
    "names"
   ]
  },
  {
   "cell_type": "markdown",
   "id": "3897d651",
   "metadata": {},
   "source": [
    "sorted(): temporarily sorts list - alphebetical "
   ]
  },
  {
   "cell_type": "code",
   "execution_count": 49,
   "id": "cb021823",
   "metadata": {},
   "outputs": [
    {
     "data": {
      "text/plain": [
       "['Chelsea', 'Kathy', 'Zach']"
      ]
     },
     "execution_count": 49,
     "metadata": {},
     "output_type": "execute_result"
    }
   ],
   "source": [
    "sorted(names)"
   ]
  },
  {
   "cell_type": "markdown",
   "id": "adc3ee3b",
   "metadata": {},
   "source": [
    "copy(): creates a copy of the list "
   ]
  },
  {
   "cell_type": "code",
   "execution_count": 50,
   "id": "17df05df",
   "metadata": {},
   "outputs": [
    {
     "data": {
      "text/plain": [
       "['Kathy', 'Chelsea', 'Zach']"
      ]
     },
     "execution_count": 50,
     "metadata": {},
     "output_type": "execute_result"
    }
   ],
   "source": [
    "names_copy=names.copy()\n",
    "names_copy"
   ]
  },
  {
   "cell_type": "markdown",
   "id": "4195fb3b",
   "metadata": {},
   "source": [
    "clear(): clears the list of all elements"
   ]
  },
  {
   "cell_type": "code",
   "execution_count": 51,
   "id": "4865ddc9",
   "metadata": {},
   "outputs": [
    {
     "data": {
      "text/plain": [
       "[]"
      ]
     },
     "execution_count": 51,
     "metadata": {},
     "output_type": "execute_result"
    }
   ],
   "source": [
    "names.clear()\n",
    "names"
   ]
  },
  {
   "cell_type": "markdown",
   "id": "4239e918",
   "metadata": {},
   "source": [
    "list(): creates a list/turns elements into a list "
   ]
  },
  {
   "cell_type": "code",
   "execution_count": 52,
   "id": "9d9bb3d6",
   "metadata": {},
   "outputs": [
    {
     "data": {
      "text/plain": [
       "['CA', 'KY', 'LA', 'NY']"
      ]
     },
     "execution_count": 52,
     "metadata": {},
     "output_type": "execute_result"
    }
   ],
   "source": [
    "places='CA', 'KY', 'LA', 'NY'\n",
    "places_list=list(places)\n",
    "places_list"
   ]
  },
  {
   "cell_type": "markdown",
   "id": "8ab5b5cc",
   "metadata": {},
   "source": [
    "len(): tells the lenghth of the list "
   ]
  },
  {
   "cell_type": "code",
   "execution_count": 53,
   "id": "c0ed90a0",
   "metadata": {},
   "outputs": [
    {
     "data": {
      "text/plain": [
       "4"
      ]
     },
     "execution_count": 53,
     "metadata": {},
     "output_type": "execute_result"
    }
   ],
   "source": [
    "len(places_list)"
   ]
  },
  {
   "cell_type": "markdown",
   "id": "d89a13db",
   "metadata": {},
   "source": [
    "max(): tells the max value in a list "
   ]
  },
  {
   "cell_type": "code",
   "execution_count": 54,
   "id": "f012b819",
   "metadata": {},
   "outputs": [
    {
     "data": {
      "text/plain": [
       "'NY'"
      ]
     },
     "execution_count": 54,
     "metadata": {},
     "output_type": "execute_result"
    }
   ],
   "source": [
    "max(places_list)"
   ]
  },
  {
   "cell_type": "markdown",
   "id": "ca049ad9",
   "metadata": {},
   "source": [
    "min(): tells the min value in a list"
   ]
  },
  {
   "cell_type": "code",
   "execution_count": 55,
   "id": "8ba60f41",
   "metadata": {},
   "outputs": [
    {
     "data": {
      "text/plain": [
       "'CA'"
      ]
     },
     "execution_count": 55,
     "metadata": {},
     "output_type": "execute_result"
    }
   ],
   "source": [
    "min(places_list)"
   ]
  }
 ],
 "metadata": {
  "kernelspec": {
   "display_name": "Python 3 (ipykernel)",
   "language": "python",
   "name": "python3"
  },
  "language_info": {
   "codemirror_mode": {
    "name": "ipython",
    "version": 3
   },
   "file_extension": ".py",
   "mimetype": "text/x-python",
   "name": "python",
   "nbconvert_exporter": "python",
   "pygments_lexer": "ipython3",
   "version": "3.9.12"
  }
 },
 "nbformat": 4,
 "nbformat_minor": 5
}
